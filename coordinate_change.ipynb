{
 "cells": [
  {
   "cell_type": "code",
   "execution_count": 1,
   "id": "f063a41c",
   "metadata": {},
   "outputs": [],
   "source": [
    "import numpy as np\n",
    "import pandas as pd"
   ]
  },
  {
   "cell_type": "code",
   "execution_count": 3,
   "id": "2f37eff7",
   "metadata": {},
   "outputs": [],
   "source": [
    "data = pd.read_excel(\"C:/Users/carefree671/Desktop/模型库/单胞/atoms.xlsx\")"
   ]
  },
  {
   "cell_type": "code",
   "execution_count": 5,
   "id": "e5735089",
   "metadata": {},
   "outputs": [],
   "source": [
    "coordinate = pd.DataFrame(data, columns=['x', 'y', 'z'])"
   ]
  },
  {
   "cell_type": "code",
   "execution_count": 6,
   "id": "5069c488",
   "metadata": {},
   "outputs": [
    {
     "data": {
      "text/html": [
       "<div>\n",
       "<style scoped>\n",
       "    .dataframe tbody tr th:only-of-type {\n",
       "        vertical-align: middle;\n",
       "    }\n",
       "\n",
       "    .dataframe tbody tr th {\n",
       "        vertical-align: top;\n",
       "    }\n",
       "\n",
       "    .dataframe thead th {\n",
       "        text-align: right;\n",
       "    }\n",
       "</style>\n",
       "<table border=\"1\" class=\"dataframe\">\n",
       "  <thead>\n",
       "    <tr style=\"text-align: right;\">\n",
       "      <th></th>\n",
       "      <th>x</th>\n",
       "      <th>y</th>\n",
       "      <th>z</th>\n",
       "    </tr>\n",
       "  </thead>\n",
       "  <tbody>\n",
       "    <tr>\n",
       "      <th>0</th>\n",
       "      <td>8.511363</td>\n",
       "      <td>10.227518</td>\n",
       "      <td>8.511602</td>\n",
       "    </tr>\n",
       "    <tr>\n",
       "      <th>1</th>\n",
       "      <td>9.663229</td>\n",
       "      <td>9.663426</td>\n",
       "      <td>7.945909</td>\n",
       "    </tr>\n",
       "    <tr>\n",
       "      <th>2</th>\n",
       "      <td>10.227441</td>\n",
       "      <td>8.511503</td>\n",
       "      <td>8.511368</td>\n",
       "    </tr>\n",
       "    <tr>\n",
       "      <th>3</th>\n",
       "      <td>9.663300</td>\n",
       "      <td>7.945929</td>\n",
       "      <td>9.663330</td>\n",
       "    </tr>\n",
       "    <tr>\n",
       "      <th>4</th>\n",
       "      <td>8.511325</td>\n",
       "      <td>8.511388</td>\n",
       "      <td>10.227535</td>\n",
       "    </tr>\n",
       "    <tr>\n",
       "      <th>...</th>\n",
       "      <td>...</td>\n",
       "      <td>...</td>\n",
       "      <td>...</td>\n",
       "    </tr>\n",
       "    <tr>\n",
       "      <th>619</th>\n",
       "      <td>4.708875</td>\n",
       "      <td>4.709040</td>\n",
       "      <td>10.227563</td>\n",
       "    </tr>\n",
       "    <tr>\n",
       "      <th>620</th>\n",
       "      <td>3.556982</td>\n",
       "      <td>5.274471</td>\n",
       "      <td>9.663177</td>\n",
       "    </tr>\n",
       "    <tr>\n",
       "      <th>621</th>\n",
       "      <td>3.110737</td>\n",
       "      <td>3.109918</td>\n",
       "      <td>7.050015</td>\n",
       "    </tr>\n",
       "    <tr>\n",
       "      <th>622</th>\n",
       "      <td>6.170608</td>\n",
       "      <td>3.110615</td>\n",
       "      <td>10.110446</td>\n",
       "    </tr>\n",
       "    <tr>\n",
       "      <th>623</th>\n",
       "      <td>3.110106</td>\n",
       "      <td>6.170366</td>\n",
       "      <td>10.109792</td>\n",
       "    </tr>\n",
       "  </tbody>\n",
       "</table>\n",
       "<p>624 rows × 3 columns</p>\n",
       "</div>"
      ],
      "text/plain": [
       "             x          y          z\n",
       "0     8.511363  10.227518   8.511602\n",
       "1     9.663229   9.663426   7.945909\n",
       "2    10.227441   8.511503   8.511368\n",
       "3     9.663300   7.945929   9.663330\n",
       "4     8.511325   8.511388  10.227535\n",
       "..         ...        ...        ...\n",
       "619   4.708875   4.709040  10.227563\n",
       "620   3.556982   5.274471   9.663177\n",
       "621   3.110737   3.109918   7.050015\n",
       "622   6.170608   3.110615  10.110446\n",
       "623   3.110106   6.170366  10.109792\n",
       "\n",
       "[624 rows x 3 columns]"
      ]
     },
     "execution_count": 6,
     "metadata": {},
     "output_type": "execute_result"
    }
   ],
   "source": [
    "coordinate"
   ]
  },
  {
   "cell_type": "code",
   "execution_count": 7,
   "id": "a8101986",
   "metadata": {},
   "outputs": [],
   "source": [
    "coord = np.array(coordinate)"
   ]
  },
  {
   "cell_type": "code",
   "execution_count": 8,
   "id": "f2128870",
   "metadata": {},
   "outputs": [
    {
     "data": {
      "text/plain": [
       "array([[ 8.511363, 10.227518,  8.511602],\n",
       "       [ 9.663229,  9.663426,  7.945909],\n",
       "       [10.227441,  8.511503,  8.511368],\n",
       "       ...,\n",
       "       [ 3.110737,  3.109918,  7.050015],\n",
       "       [ 6.170608,  3.110615, 10.110446],\n",
       "       [ 3.110106,  6.170366, 10.109792]])"
      ]
     },
     "execution_count": 8,
     "metadata": {},
     "output_type": "execute_result"
    }
   ],
   "source": [
    "coord"
   ]
  },
  {
   "cell_type": "code",
   "execution_count": 9,
   "id": "59ad35bf",
   "metadata": {},
   "outputs": [],
   "source": [
    "Q = np.array([[(2**0.5)/2, -(2**0.5)/2, 0],\n",
    "              [(2**0.5)/2, (2**0.5)/2, 0],\n",
    "              [0, 0, 1]])"
   ]
  },
  {
   "cell_type": "code",
   "execution_count": 11,
   "id": "46a55515",
   "metadata": {},
   "outputs": [],
   "source": [
    "T_coord = coord.T"
   ]
  },
  {
   "cell_type": "code",
   "execution_count": 12,
   "id": "3820c98c",
   "metadata": {},
   "outputs": [
    {
     "data": {
      "text/plain": [
       "array([[ 8.511363,  9.663229, 10.227441, ...,  3.110737,  6.170608,\n",
       "         3.110106],\n",
       "       [10.227518,  9.663426,  8.511503, ...,  3.109918,  3.110615,\n",
       "         6.170366],\n",
       "       [ 8.511602,  7.945909,  8.511368, ...,  7.050015, 10.110446,\n",
       "        10.109792]])"
      ]
     },
     "execution_count": 12,
     "metadata": {},
     "output_type": "execute_result"
    }
   ],
   "source": [
    "T_coord"
   ]
  },
  {
   "cell_type": "code",
   "execution_count": 13,
   "id": "9a975e8d",
   "metadata": {},
   "outputs": [],
   "source": [
    "change_coord = np.dot(Q, T_coord)"
   ]
  },
  {
   "cell_type": "code",
   "execution_count": 16,
   "id": "dbfc3254",
   "metadata": {},
   "outputs": [],
   "source": [
    "change_coord_data = pd.DataFrame(change_coord.T)"
   ]
  },
  {
   "cell_type": "code",
   "execution_count": 17,
   "id": "5348e61d",
   "metadata": {},
   "outputs": [],
   "source": [
    "change_coord_data.to_excel(\"C:/Users/carefree671/Desktop/模型库/单胞/转换坐标.xlsx\")"
   ]
  },
  {
   "cell_type": "code",
   "execution_count": 24,
   "id": "8a6abc9b",
   "metadata": {},
   "outputs": [],
   "source": [
    "box_coordinate = np.array([[0, 0 ,0],\n",
    "                           [26.4408, 26.4408 ,26.4408]])"
   ]
  },
  {
   "cell_type": "code",
   "execution_count": 25,
   "id": "145e49a5",
   "metadata": {},
   "outputs": [],
   "source": [
    "change_box = np.dot(Q, box_coordinate.T)"
   ]
  },
  {
   "cell_type": "code",
   "execution_count": 26,
   "id": "f378c79e",
   "metadata": {},
   "outputs": [
    {
     "data": {
      "text/plain": [
       "array([[ 0.        ,  0.        ],\n",
       "       [ 0.        , 37.39293796],\n",
       "       [ 0.        , 26.4408    ]])"
      ]
     },
     "execution_count": 26,
     "metadata": {},
     "output_type": "execute_result"
    }
   ],
   "source": [
    "change_box"
   ]
  },
  {
   "cell_type": "code",
   "execution_count": 27,
   "id": "15ce25b9",
   "metadata": {},
   "outputs": [],
   "source": [
    "change_box_coord = pd.DataFrame(change_box.T)"
   ]
  },
  {
   "cell_type": "code",
   "execution_count": 28,
   "id": "33995255",
   "metadata": {},
   "outputs": [
    {
     "data": {
      "text/html": [
       "<div>\n",
       "<style scoped>\n",
       "    .dataframe tbody tr th:only-of-type {\n",
       "        vertical-align: middle;\n",
       "    }\n",
       "\n",
       "    .dataframe tbody tr th {\n",
       "        vertical-align: top;\n",
       "    }\n",
       "\n",
       "    .dataframe thead th {\n",
       "        text-align: right;\n",
       "    }\n",
       "</style>\n",
       "<table border=\"1\" class=\"dataframe\">\n",
       "  <thead>\n",
       "    <tr style=\"text-align: right;\">\n",
       "      <th></th>\n",
       "      <th>0</th>\n",
       "      <th>1</th>\n",
       "      <th>2</th>\n",
       "    </tr>\n",
       "  </thead>\n",
       "  <tbody>\n",
       "    <tr>\n",
       "      <th>0</th>\n",
       "      <td>0.0</td>\n",
       "      <td>0.000000</td>\n",
       "      <td>0.0000</td>\n",
       "    </tr>\n",
       "    <tr>\n",
       "      <th>1</th>\n",
       "      <td>0.0</td>\n",
       "      <td>37.392938</td>\n",
       "      <td>26.4408</td>\n",
       "    </tr>\n",
       "  </tbody>\n",
       "</table>\n",
       "</div>"
      ],
      "text/plain": [
       "     0          1        2\n",
       "0  0.0   0.000000   0.0000\n",
       "1  0.0  37.392938  26.4408"
      ]
     },
     "execution_count": 28,
     "metadata": {},
     "output_type": "execute_result"
    }
   ],
   "source": [
    "change_box_coord"
   ]
  },
  {
   "cell_type": "code",
   "execution_count": null,
   "id": "e9a5438c",
   "metadata": {},
   "outputs": [],
   "source": []
  }
 ],
 "metadata": {
  "kernelspec": {
   "display_name": "Python 3",
   "language": "python",
   "name": "python3"
  },
  "language_info": {
   "codemirror_mode": {
    "name": "ipython",
    "version": 3
   },
   "file_extension": ".py",
   "mimetype": "text/x-python",
   "name": "python",
   "nbconvert_exporter": "python",
   "pygments_lexer": "ipython3",
   "version": "3.8.8"
  }
 },
 "nbformat": 4,
 "nbformat_minor": 5
}
